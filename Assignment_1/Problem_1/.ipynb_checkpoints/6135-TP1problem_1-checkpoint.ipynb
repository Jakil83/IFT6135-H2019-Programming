{
 "cells": [
  {
   "cell_type": "markdown",
   "metadata": {},
   "source": [
    "# Problem 1 of TP 1\n",
    "\n",
    "Project by - "
   ]
  },
  {
   "cell_type": "code",
   "execution_count": 1,
   "metadata": {},
   "outputs": [
    {
     "name": "stdout",
     "output_type": "stream",
     "text": [
      "Populating the interactive namespace from numpy and matplotlib\n"
     ]
    }
   ],
   "source": [
    "%pylab inline \n",
    "import numpy as np\n",
    "import matplotlib.pyplot as mp\n",
    "import time"
   ]
  },
  {
   "cell_type": "markdown",
   "metadata": {},
   "source": [
    "#### Dataset\n",
    "\n",
    "The dataset mnist.pkl.npy was downloaded using download.py."
   ]
  },
  {
   "cell_type": "code",
   "execution_count": 2,
   "metadata": {},
   "outputs": [
    {
     "name": "stdout",
     "output_type": "stream",
     "text": [
      "Datasets (train, valid, test) - (50000, 784) (10000, 784) (10000, 784)\n"
     ]
    }
   ],
   "source": [
    "train_data, valid_data, test_data = np.load('mnist.pkl.npy')\n",
    "print(\"Datasets (train, valid, test) -\",np.shape(train_data[0]), np.shape(valid_data[0]), np.shape(test_data[0]))"
   ]
  },
  {
   "cell_type": "markdown",
   "metadata": {},
   "source": [
    "### Building the Model \n",
    "Consider an MLP with two hidden layers with $h^1$ and $h^2$ hidden units.For the MNIST dataset,  the number of features of the input datah0is 784.  The output of theneural network is parameterized by a softmax of $h^3= 10$ classes.\n",
    "\n",
    "1.  Build an MLP and choose the values of $h^1$ and $h^2$ such that the total number of parameters(including biases) falls within the range of [0.5M, 1.0M].\n",
    "\n",
    "2.  Implement the forward and backward propagation of the MLP in numpy without using any ofthe deep learning frameworks that provides automatic differentiation.  Use the class structureprovided here.\n",
    "\n",
    "3.  Train the MLP using the probability loss (cross entropy) as training criterion.  We minimizethis criterion to optimize the model parameters usingstochastic gradient descent."
   ]
  },
  {
   "cell_type": "code",
   "execution_count": 3,
   "metadata": {},
   "outputs": [],
   "source": [
    "### class for MLP\n",
    "class NN(object):\n",
    "    def __init__(self, hidden_dims=(512,768), weight_type = \"Glorot\", learning_rate = 0.1, silent_search = 0):\n",
    "        ## Initialising the hidden layer sizes\n",
    "        self.h0 = 784\n",
    "        self.h1 = int(hidden_dims[0])\n",
    "        self.h2 = int(hidden_dims[1])\n",
    "        self.h3 = 10\n",
    "        \n",
    "        ## learning rate\n",
    "        self.eta = learning_rate\n",
    "        \n",
    "        ## initializing the bias\n",
    "        self.b0 = np.zeros(self.h1).reshape(-1,1) \n",
    "        self.b1 = np.zeros(self.h2).reshape(-1,1) \n",
    "        self.b2 = np.zeros(self.h3).reshape(-1,1) \n",
    "        \n",
    "        ## Weight variables\n",
    "        self.W0 = 0 \n",
    "        self.W1 = 0 \n",
    "        self.W2 = 0 \n",
    "        \n",
    "        ## initializing the weights depending on the weight_type\n",
    "        self.initialize_weights(weight_type = weight_type)\n",
    "        \n",
    "        ## To obtain the total count of parameters int he model and restric it to between 0.5-1 Million.\n",
    "        print(\"parameter count =\", sum([len(self.b0),len(self.b1),len(self.b2),len(self.W0.reshape(-1,1)),len(self.W1.reshape(-1,1)),len(self.W2.reshape(-1,1))]))\n",
    "        \n",
    "        self.silent = silent_search        \n",
    "            \n",
    "    def initialize_weights(self, weight_type = \"Glorot\"):\n",
    "        if weight_type == \"Zeros\":\n",
    "            self.W0 = np.zeros(self.h1*self.h0).reshape(self.h1,self.h0)\n",
    "            self.W1 = np.zeros(self.h2*self.h1).reshape(self.h2,self.h1)\n",
    "            self.W2 = np.zeros(self.h3*self.h2).reshape(self.h3,self.h2)\n",
    "        elif weight_type == \"Normal\":\n",
    "            self.W0 = np.random.normal(0.0,1.0e2,size = self.h1*self.h0).reshape(self.h1,self.h0)\n",
    "            self.W1 = np.random.normal(0.0,1.0e2,size = self.h2*self.h1).reshape(self.h2,self.h1)\n",
    "            self.W2 = np.random.normal(0.0,1.0e2,size = self.h3*self.h2).reshape(self.h3,self.h2)\n",
    "        elif weight_type == \"Glorot\":\n",
    "            dl0 = np.sqrt(6.0/(self.h1+self.h0))\n",
    "            self.W0 = np.random.uniform(-dl0,dl0,size= self.h1*self.h0).reshape(self.h1,self.h0)\n",
    "            dl1 = np.sqrt(6.0/(self.h2+self.h1))\n",
    "            self.W1 = np.random.uniform(-dl1,dl1,size= self.h2*self.h1).reshape(self.h2,self.h1)\n",
    "            dl2 = np.sqrt(6.0/(self.h3+self.h2))\n",
    "            self.W2 = np.random.uniform(-dl2,dl2,size= self.h3*self.h2).reshape(self.h3,self.h2)\n",
    "        \n",
    "    def forward(self, input_data):       \n",
    "        input_data = np.array(input_data)                                   # [d,n]\n",
    "        cache = {}           \n",
    "        cache['input'] = input_data\n",
    "         \n",
    "        cache['ha_1'] = np.matmul(self.W0,cache['input']) + self.b0\n",
    "        cache['hs_1'] = self.activation(cache['ha_1'])\n",
    "        \n",
    "        cache['ha_2'] = np.matmul(self.W1,cache['hs_1']) + self.b1\n",
    "        cache['hs_2'] = self.activation(cache['ha_2'])\n",
    "                           \n",
    "        cache['ha_3'] = np.matmul(self.W2,cache['hs_2']) + self.b2\n",
    "        cache['output'] = self.softmax(cache['ha_3']) \n",
    "            \n",
    "        return cache\n",
    "\n",
    "\n",
    "    def activation(self, input_data):\n",
    "        ## relu activation\n",
    "        x = np.array(input_data)\n",
    "        x[x<0] = 0\n",
    "        return x\n",
    "               \n",
    "    def softmax(self, input_data):\n",
    "        ## thanks to https://deepnotes.io/softmax-crossentropy\n",
    "        exps = np.exp(input_data - np.max(input_data,axis=0))\n",
    "        return np.true_divide(exps, np.sum(exps,axis = 0))\n",
    "    \n",
    "    \n",
    "    def loss(self, prediction_list, labels):\n",
    "        ## probability loss (cross entropy)\n",
    "        loss_values = [-np.log(prediction[label]) for label,prediction in zip(labels,prediction_list.T)]\n",
    "        return np.array(loss_values)\n",
    "\n",
    "    def backward(self, cache, labels):\n",
    "        n = float(len(labels))\n",
    "        grads = {}      \n",
    "        grads['ha_3'] = cache['output'] - np.transpose(np.eye(self.h3)[labels])     \n",
    "        \n",
    "        grads['W2'] = np.matmul(grads['ha_3'], cache['hs_2'].T)/n   \n",
    "        grads['b2'] = np.array(np.sum(grads['ha_3'],axis = 1)/n).reshape(-1,1)  \n",
    "        grads['hs_2'] = np.matmul(self.W2.T, grads['ha_3']) \n",
    "        grads['ha_2'] = np.multiply(grads['hs_2'], np.where(cache['ha_2'] > 0,1.0,0.0))\n",
    "                           \n",
    "        grads['W1'] = np.matmul(grads['ha_2'], cache['hs_1'].T)/n\n",
    "        grads['b1'] = np.array(np.sum(grads['ha_2'],axis = 1)/n).reshape(-1,1)\n",
    "        grads['hs_1'] = np.matmul(self.W1.T, grads['ha_2']) \n",
    "        grads['ha_1'] = np.multiply(grads['hs_1'], np.where(cache['ha_1'] > 0,1.0,0.0))\n",
    "                           \n",
    "        grads['W0'] = np.matmul(grads['ha_1'], cache['input'].T)/n\n",
    "        grads['b0'] = np.array(np.sum(grads['ha_1'],axis = 1)/n).reshape(-1,1)\n",
    "                           \n",
    "        return grads\n",
    "    \n",
    "    def update(self, grads):  \n",
    "        # Stocastic gradient descent\n",
    "        self.W2 -= self.eta*grads['W2']\n",
    "        self.W1 -= self.eta*grads['W1']\n",
    "        self.W0 -= self.eta*grads['W0']\n",
    "        self.b2 -= self.eta*grads['b2']\n",
    "        self.b1 -= self.eta*grads['b1']\n",
    "        self.b0 -= self.eta*grads['b0']\n",
    "        \n",
    "    def classification_accuracy(self, predicted_labels, true_labels):\n",
    "        # Classification accuracy in percent\n",
    "        return np.sum(np.array(predicted_labels)==np.array(true_labels))*100.0/np.array(predicted_labels).shape[0]\n",
    "                           \n",
    "    def train(self, input_data, labels, epochs = 10, mini_batch = 10): \n",
    "        n = len(labels)\n",
    "        input_data = input_data.T\n",
    "        loss = []\n",
    "        \n",
    "        for e in range(epochs):  \n",
    "            i = 0\n",
    "            while(i < n):\n",
    "                if i + mini_batch <= n:\n",
    "                    minibatch_data = input_data[:,i:i + mini_batch]\n",
    "                    minibatch_labels = labels[i:i + mini_batch]\n",
    "                else:\n",
    "                    minibatch_data = input_data[:,i:]\n",
    "                    minibatch_labels = labels[i:]\n",
    "                    \n",
    "                cache = self.forward(minibatch_data)\n",
    "                grads = self.backward(cache,minibatch_labels)\n",
    "                        \n",
    "                self.update(grads)\n",
    "                i = i + mini_batch\n",
    "                \n",
    "            predictions, meanloss = self.test(input_data,labels, run_for = \"training\")\n",
    "            loss.append(meanloss)\n",
    "            if (self.silent == 0):\n",
    "                print(\"Classification accuracy [%] on training = \",self.classification_accuracy(predictions,labels))  \n",
    "        return loss         \n",
    "        \n",
    "    def test(self, input_data, labels, run_for = \"testing\"):\n",
    "        if (self.silent == 0):\n",
    "            print(\"\\n\\n\"+run_for+\"..\")\n",
    "            \n",
    "        cache = self.forward(input_data)\n",
    "        \n",
    "        mean_loss = np.mean(self.loss(cache['output'],labels))\n",
    "        if (self.silent == 0):\n",
    "            print(\"Mean Loss for \"+run_for+\" = \",mean_loss) \n",
    "            \n",
    "        return np.argmax(cache['output'],axis = 0), mean_loss\n",
    "    \n",
    "    "
   ]
  },
  {
   "cell_type": "markdown",
   "metadata": {},
   "source": [
    "### In the following sub-questions, please specify the model architecture (number of hidden units per layer, and the total number of parameters), the nonlinearity chosen as neuron activation, learning rate, mini-batch size.\n",
    "\n",
    "\n",
    "Model Architecture - 2 layer MLP with input size 784, first hiddent layer of size 512, second hidden layer of size 768 and output layer of size 10.\n",
    "\n",
    "Total number of parameters - 804352.\n",
    "\n",
    "Neuron activation non-linearity - Rectified linear Unit (ReLu).\n",
    "\n",
    "Output non-linearity - Softmax.\n",
    "\n",
    "Learning rate (eta) - 0.1.\n",
    "\n",
    "Mini-Batch size - 128.\n"
   ]
  },
  {
   "cell_type": "markdown",
   "metadata": {},
   "source": [
    "#### Splitting features and labels"
   ]
  },
  {
   "cell_type": "code",
   "execution_count": 4,
   "metadata": {},
   "outputs": [
    {
     "name": "stdout",
     "output_type": "stream",
     "text": [
      "50000\n"
     ]
    }
   ],
   "source": [
    "n = len(train_data[0])\n",
    "print(n)\n",
    "train_data_features = train_data[0][:n]\n",
    "train_data_labels = train_data[1][:n]\n",
    "\n",
    "valid_data_features = valid_data[0]\n",
    "valid_data_labels = valid_data[1]"
   ]
  },
  {
   "cell_type": "markdown",
   "metadata": {},
   "source": [
    "#### Function to run a model"
   ]
  },
  {
   "cell_type": "code",
   "execution_count": 5,
   "metadata": {},
   "outputs": [],
   "source": [
    "def run(epoch = 10, mini_batch = 128, weight_type = \"Glorot\"):\n",
    "    since = time.time()\n",
    "    \n",
    "    NN_0 = NN(weight_type = weight_type)\n",
    "    print(\"Loading model : \",NN_0.h1,\"x\",NN_0.h2,\"lr : \", NN_0.eta)\n",
    "    \n",
    "    loss_val = NN_0.train(train_data_features,train_data_labels,epochs = epoch, mini_batch = mini_batch)\n",
    "    \n",
    "    valid_predictions, _ = NN_0.test(valid_data_features.T, valid_data_labels)\n",
    "    acc = NN_0.classification_accuracy(valid_predictions, valid_data_labels)\n",
    "    print(\"Classification accuracy [%] on validation = \",acc)\n",
    "\n",
    "    time_elapsed = time.time() - since\n",
    "    print('Training complete in {:.0f}m {:.0f}s'.format(\n",
    "          time_elapsed // 60, time_elapsed % 60))\n",
    "    \n",
    "    return loss_val"
   ]
  },
  {
   "cell_type": "markdown",
   "metadata": {},
   "source": [
    "### Initialization: In this sub-question, we consider different initial values for the weight param-eters.  Set the biases to be zeros, and consider the following settings for the weight parameters:\n",
    "\n",
    "### 1.  Train the model for 10 epochs using the initialization methods above and record the average loss measured on the training data at the end of each epoch (10 values for each setup)."
   ]
  },
  {
   "cell_type": "code",
   "execution_count": 6,
   "metadata": {},
   "outputs": [
    {
     "name": "stdout",
     "output_type": "stream",
     "text": [
      "parameter count = 803594\n",
      "Loading model :  512 x 768 lr :  0.1\n",
      "\n",
      "\n",
      "training..\n",
      "Mean Loss for training =  2.30106604987257\n",
      "Classification accuracy [%] on training =  11.356\n",
      "\n",
      "\n",
      "training..\n",
      "Mean Loss for training =  2.3010626883570473\n",
      "Classification accuracy [%] on training =  11.356\n",
      "\n",
      "\n",
      "training..\n",
      "Mean Loss for training =  2.301062639269737\n",
      "Classification accuracy [%] on training =  11.356\n",
      "\n",
      "\n",
      "training..\n",
      "Mean Loss for training =  2.30106263826223\n",
      "Classification accuracy [%] on training =  11.356\n",
      "\n",
      "\n",
      "training..\n",
      "Mean Loss for training =  2.301062638237786\n",
      "Classification accuracy [%] on training =  11.356\n",
      "\n",
      "\n",
      "training..\n",
      "Mean Loss for training =  2.3010626382371333\n",
      "Classification accuracy [%] on training =  11.356\n",
      "\n",
      "\n",
      "training..\n",
      "Mean Loss for training =  2.301062638237115\n",
      "Classification accuracy [%] on training =  11.356\n",
      "\n",
      "\n",
      "training..\n",
      "Mean Loss for training =  2.301062638237115\n",
      "Classification accuracy [%] on training =  11.356\n",
      "\n",
      "\n",
      "training..\n",
      "Mean Loss for training =  2.301062638237115\n",
      "Classification accuracy [%] on training =  11.356\n",
      "\n",
      "\n",
      "training..\n",
      "Mean Loss for training =  2.301062638237115\n",
      "Classification accuracy [%] on training =  11.356\n",
      "\n",
      "\n",
      "testing..\n",
      "Mean Loss for testing =  2.301854740465508\n",
      "Classification accuracy [%] on validation =  10.64\n",
      "Training complete in 1m 13s\n"
     ]
    }
   ],
   "source": [
    "zeros_losses = run(weight_type = \"Zeros\")"
   ]
  },
  {
   "cell_type": "code",
   "execution_count": 7,
   "metadata": {},
   "outputs": [
    {
     "name": "stdout",
     "output_type": "stream",
     "text": [
      "parameter count = 803594\n",
      "Loading model :  512 x 768 lr :  0.1\n",
      "\n",
      "\n",
      "training..\n",
      "Mean Loss for training =  2.301148133809196\n",
      "Classification accuracy [%] on training =  11.356\n",
      "\n",
      "\n",
      "training..\n",
      "Mean Loss for training =  2.3010627737389466\n",
      "Classification accuracy [%] on training =  11.356\n",
      "\n",
      "\n",
      "training..\n",
      "Mean Loss for training =  2.3010626412812285\n",
      "Classification accuracy [%] on training =  11.356\n",
      "\n",
      "\n",
      "training..\n",
      "Mean Loss for training =  2.3010626383428696\n",
      "Classification accuracy [%] on training =  11.356\n",
      "\n",
      "\n",
      "training..\n",
      "Mean Loss for training =  2.3010626382406802\n",
      "Classification accuracy [%] on training =  11.356\n",
      "\n",
      "\n",
      "training..\n",
      "Mean Loss for training =  2.301062638237229\n",
      "Classification accuracy [%] on training =  11.356\n",
      "\n",
      "\n",
      "training..\n",
      "Mean Loss for training =  2.3010626382371187\n",
      "Classification accuracy [%] on training =  11.356\n",
      "\n",
      "\n",
      "training..\n",
      "Mean Loss for training =  2.301062638237115\n",
      "Classification accuracy [%] on training =  11.356\n",
      "\n",
      "\n",
      "training..\n",
      "Mean Loss for training =  2.301062638237115\n",
      "Classification accuracy [%] on training =  11.356\n",
      "\n",
      "\n",
      "training..\n",
      "Mean Loss for training =  2.301062638237115\n",
      "Classification accuracy [%] on training =  11.356\n",
      "\n",
      "\n",
      "testing..\n",
      "Mean Loss for testing =  inf\n",
      "Classification accuracy [%] on validation =  10.64\n",
      "Training complete in 1m 1s\n"
     ]
    },
    {
     "name": "stderr",
     "output_type": "stream",
     "text": [
      "//anaconda/envs/helios/lib/python3.7/site-packages/ipykernel_launcher.py:79: RuntimeWarning: divide by zero encountered in log\n"
     ]
    }
   ],
   "source": [
    "normal_losses = run(weight_type = \"Normal\")"
   ]
  },
  {
   "cell_type": "code",
   "execution_count": 8,
   "metadata": {},
   "outputs": [
    {
     "name": "stdout",
     "output_type": "stream",
     "text": [
      "parameter count = 803594\n",
      "Loading model :  512 x 768 lr :  0.1\n",
      "\n",
      "\n",
      "training..\n",
      "Mean Loss for training =  0.2724472669813704\n",
      "Classification accuracy [%] on training =  91.848\n",
      "\n",
      "\n",
      "training..\n",
      "Mean Loss for training =  0.18523987693175825\n",
      "Classification accuracy [%] on training =  94.536\n",
      "\n",
      "\n",
      "training..\n",
      "Mean Loss for training =  0.1400291295956501\n",
      "Classification accuracy [%] on training =  95.918\n",
      "\n",
      "\n",
      "training..\n",
      "Mean Loss for training =  0.11225144840363874\n",
      "Classification accuracy [%] on training =  96.736\n",
      "\n",
      "\n",
      "training..\n",
      "Mean Loss for training =  0.09331997012000898\n",
      "Classification accuracy [%] on training =  97.302\n",
      "\n",
      "\n",
      "training..\n",
      "Mean Loss for training =  0.07926168895761627\n",
      "Classification accuracy [%] on training =  97.692\n",
      "\n",
      "\n",
      "training..\n",
      "Mean Loss for training =  0.06788345141223112\n",
      "Classification accuracy [%] on training =  98.048\n",
      "\n",
      "\n",
      "training..\n",
      "Mean Loss for training =  0.05868652831809437\n",
      "Classification accuracy [%] on training =  98.34\n",
      "\n",
      "\n",
      "training..\n",
      "Mean Loss for training =  0.0512073964103037\n",
      "Classification accuracy [%] on training =  98.576\n",
      "\n",
      "\n",
      "training..\n",
      "Mean Loss for training =  0.04491940048679391\n",
      "Classification accuracy [%] on training =  98.756\n",
      "\n",
      "\n",
      "testing..\n",
      "Mean Loss for testing =  0.08393884677883673\n",
      "Classification accuracy [%] on validation =  97.53\n",
      "Training complete in 1m 4s\n"
     ]
    }
   ],
   "source": [
    "glorot_losses = run(weight_type = \"Glorot\")"
   ]
  },
  {
   "cell_type": "markdown",
   "metadata": {},
   "source": [
    "### 2.  Compare the three setups by plotting the losses against the training time (epoch) and commenton the result\n",
    "\n",
    "\n"
   ]
  },
  {
   "cell_type": "code",
   "execution_count": 9,
   "metadata": {},
   "outputs": [
    {
     "data": {
      "image/png": "[encoded data removed]",
      "text/plain": [
       "<Figure size 432x288 with 1 Axes>"
      ]
     },
     "metadata": {
      "needs_background": "light"
     },
     "output_type": "display_data"
    }
   ],
   "source": [
    "\n",
    "plt.plot(glorot_losses, label = \"glorot\", color = 'blue')\n",
    "plt.plot(zeros_losses, label = \"zero\", color = 'magenta')\n",
    "plt.plot(normal_losses, label = \"normal\", color = 'cyan')\n",
    "\n",
    "plt.ylabel('loss')\n",
    "plt.xlabel('epoch')\n",
    "plt.legend()\n",
    "plt.show()\n"
   ]
  },
  {
   "cell_type": "markdown",
   "metadata": {},
   "source": [
    "We find that for both Zeros and Normal initializations, the loss stays high and the accuracy is 10 as the model is training at a very slow pace. This is because, in the case of Zero initialization, the gradients and the weights are zero. The changes in loss are due to training of bias to the majority class.\n",
    "\n",
    "Same phenomenon happens for normal initialization. Due to large values of weights (due to the non zero probability of normal distribution for large values), the gradients of the weights explode (move towards infinity and negative infinity) due to the unbounded nature of ReLu activation function. This can be solved with a bounded activation function like sigmoid. This trend will eventually leads to zero weight gradients and the training slows to similar to the zero initialization case.\n",
    "\n",
    "With glorot initialization, the network trains easily reaching high accuracy and low mean loss."
   ]
  },
  {
   "cell_type": "markdown",
   "metadata": {},
   "source": [
    "### Hyperparameter Search -  From now on, use the Glorot initialization method.\n",
    "\n",
    "### 1.  Find out a combination of hyper-parameters (model architecture, learning rate, nonlinearity,etc.)  such that the average accuracy rate on the validation set (r_valid)) is at least 97%.\n",
    "### 2.  Report the hyper-parameters you tried and the corresponding r_(valid)."
   ]
  },
  {
   "cell_type": "code",
   "execution_count": 10,
   "metadata": {},
   "outputs": [
    {
     "name": "stdout",
     "output_type": "stream",
     "text": [
      "Grid of model parameters - [hidden_layer_1,hidden_layer_2,inv_learning_rate]\n"
     ]
    },
    {
     "data": {
      "text/plain": [
       "[array([392, 512,   1]),\n",
       " array([392, 768,   1]),\n",
       " array([ 392, 1024,    1]),\n",
       " array([512, 256,   1]),\n",
       " array([512, 512,   1]),\n",
       " array([512, 768,   1]),\n",
       " array([ 512, 1024,    1]),\n",
       " array([768, 256,   1]),\n",
       " array([392, 512,  10]),\n",
       " array([392, 768,  10]),\n",
       " array([ 392, 1024,   10]),\n",
       " array([512, 256,  10]),\n",
       " array([512, 512,  10]),\n",
       " array([512, 768,  10]),\n",
       " array([ 512, 1024,   10]),\n",
       " array([768, 256,  10]),\n",
       " array([392, 512, 100]),\n",
       " array([392, 768, 100]),\n",
       " array([ 392, 1024,  100]),\n",
       " array([512, 256, 100]),\n",
       " array([512, 512, 100]),\n",
       " array([512, 768, 100]),\n",
       " array([ 512, 1024,  100]),\n",
       " array([768, 256, 100])]"
      ]
     },
     "execution_count": 10,
     "metadata": {},
     "output_type": "execute_result"
    }
   ],
   "source": [
    "# Grid of parameters - grid should be an array of integer, as the numpy will return only a list of the same type\n",
    "parameter_space = {\n",
    "    # grid of {392,512,768,1024}x{256,512,768,1024}\n",
    "    'hidden_1': [392, 512, 768, 1024],\n",
    "    'hidden_2': [256, 512, 768, 1024],\n",
    "    'inv_learning_rate' : [1,10,100]   \n",
    "}\n",
    "\n",
    "def invRate(dot):\n",
    "    ## function to convert from inv_learning_rate to learning_rate\n",
    "    if (dot[2] == 0):\n",
    "        raise ValueError('Inverse learning should not be 0')\n",
    "    return 1/dot[2]\n",
    "\n",
    "\n",
    "def parameter_count(n0 = 784, n1 = 0, n2 = 0, n3 = 10):\n",
    "    return ((n0+1)*n1)+((n1+1)*n2)+(n2+1)*n3\n",
    "    \n",
    "def validParam(dot):\n",
    "    ## invalid values (number of paramters > 1M or < 500K) are eliminated\n",
    "    n1 = dot[0]\n",
    "    n2 = dot[1]\n",
    "    size = parameter_count(n0 = 784, n1 = n1, n2 = n2, n3 = 10)\n",
    "    return (size > 500000 and size < 1000000)\n",
    "\n",
    "# Creating the grid of model parameters\n",
    "## Cartesian product : for each grid point, (possible combination in the parameter space) run n epochs and store the validation score\n",
    "grid = np.array(np.meshgrid(parameter_space['hidden_1'],parameter_space['hidden_2'], parameter_space['inv_learning_rate'])).T.reshape(-1,len(parameter_space))\n",
    "grid = [x for x in grid if validParam(x)]\n",
    "\n",
    "\n",
    "print(\"Grid of model parameters - [hidden_layer_1,hidden_layer_2,inv_learning_rate]\")\n",
    "grid"
   ]
  },
  {
   "cell_type": "code",
   "execution_count": 11,
   "metadata": {},
   "outputs": [
    {
     "data": {
      "text/plain": [
       "24"
      ]
     },
     "execution_count": 11,
     "metadata": {},
     "output_type": "execute_result"
    }
   ],
   "source": [
    "len(grid)"
   ]
  },
  {
   "cell_type": "code",
   "execution_count": 12,
   "metadata": {
    "scrolled": true
   },
   "outputs": [
    {
     "name": "stdout",
     "output_type": "stream",
     "text": [
      "\n",
      "parameter count = 514066\n",
      "Loading model :  392 x 512 lr :  1.0\n",
      "Classification Accuracy on validation =  96.56 %\n",
      "Training complete in 0m 39s\n",
      "\n",
      "parameter count = 617234\n",
      "Loading model :  392 x 768 lr :  1.0\n",
      "Classification Accuracy on validation =  97.58 %\n",
      "Training complete in 1m 31s\n",
      "\n",
      "parameter count = 720402\n",
      "Loading model :  392 x 1024 lr :  1.0\n",
      "Classification Accuracy on validation =  97.39 %\n",
      "Training complete in 2m 34s\n",
      "\n",
      "parameter count = 535818\n",
      "Loading model :  512 x 256 lr :  1.0\n",
      "Classification Accuracy on validation =  97.57 %\n",
      "Training complete in 3m 11s\n",
      "\n",
      "parameter count = 669706\n",
      "Loading model :  512 x 512 lr :  1.0\n",
      "Classification Accuracy on validation =  97.74 %\n",
      "Training complete in 4m 1s\n",
      "\n",
      "parameter count = 803594\n",
      "Loading model :  512 x 768 lr :  1.0\n",
      "Classification Accuracy on validation =  97.65 %\n",
      "Training complete in 5m 6s\n",
      "\n",
      "parameter count = 937482\n",
      "Loading model :  512 x 1024 lr :  1.0\n",
      "Classification Accuracy on validation =  97.5 %\n",
      "Training complete in 6m 21s\n",
      "\n",
      "parameter count = 802314\n",
      "Loading model :  768 x 256 lr :  1.0\n",
      "Classification Accuracy on validation =  97.74 %\n",
      "Training complete in 7m 12s\n",
      "\n",
      "parameter count = 514066\n",
      "Loading model :  392 x 512 lr :  0.1\n",
      "Classification Accuracy on validation =  97.5 %\n",
      "Training complete in 7m 55s\n",
      "\n",
      "parameter count = 617234\n",
      "Loading model :  392 x 768 lr :  0.1\n",
      "Classification Accuracy on validation =  97.61 %\n",
      "Training complete in 8m 48s\n",
      "\n",
      "parameter count = 720402\n",
      "Loading model :  392 x 1024 lr :  0.1\n",
      "Classification Accuracy on validation =  97.54 %\n",
      "Training complete in 9m 51s\n",
      "\n",
      "parameter count = 535818\n",
      "Loading model :  512 x 256 lr :  0.1\n",
      "Classification Accuracy on validation =  97.67 %\n",
      "Training complete in 10m 31s\n",
      "\n",
      "parameter count = 669706\n",
      "Loading model :  512 x 512 lr :  0.1\n",
      "Classification Accuracy on validation =  97.69 %\n",
      "Training complete in 11m 24s\n",
      "\n",
      "parameter count = 803594\n",
      "Loading model :  512 x 768 lr :  0.1\n",
      "Classification Accuracy on validation =  97.74 %\n",
      "Training complete in 12m 31s\n",
      "\n",
      "parameter count = 937482\n",
      "Loading model :  512 x 1024 lr :  0.1\n",
      "Classification Accuracy on validation =  97.67 %\n",
      "Training complete in 13m 47s\n",
      "\n",
      "parameter count = 802314\n",
      "Loading model :  768 x 256 lr :  0.1\n",
      "Classification Accuracy on validation =  97.54 %\n",
      "Training complete in 14m 42s\n",
      "\n",
      "parameter count = 514066\n",
      "Loading model :  392 x 512 lr :  0.01\n",
      "Classification Accuracy on validation =  93.54 %\n",
      "Training complete in 15m 23s\n",
      "\n",
      "parameter count = 617234\n",
      "Loading model :  392 x 768 lr :  0.01\n",
      "Classification Accuracy on validation =  93.67 %\n",
      "Training complete in 16m 14s\n",
      "\n",
      "parameter count = 720402\n",
      "Loading model :  392 x 1024 lr :  0.01\n",
      "Classification Accuracy on validation =  93.28 %\n",
      "Training complete in 17m 15s\n",
      "\n",
      "parameter count = 535818\n",
      "Loading model :  512 x 256 lr :  0.01\n",
      "Classification Accuracy on validation =  93.87 %\n",
      "Training complete in 17m 53s\n",
      "\n",
      "parameter count = 669706\n",
      "Loading model :  512 x 512 lr :  0.01\n",
      "Classification Accuracy on validation =  93.79 %\n",
      "Training complete in 18m 43s\n",
      "\n",
      "parameter count = 803594\n",
      "Loading model :  512 x 768 lr :  0.01\n",
      "Classification Accuracy on validation =  93.46 %\n",
      "Training complete in 19m 45s\n",
      "\n",
      "parameter count = 937482\n",
      "Loading model :  512 x 1024 lr :  0.01\n",
      "Classification Accuracy on validation =  93.77 %\n",
      "Training complete in 20m 56s\n",
      "\n",
      "parameter count = 802314\n",
      "Loading model :  768 x 256 lr :  0.01\n",
      "Classification Accuracy on validation =  93.99 %\n",
      "Training complete in 21m 49s\n"
     ]
    }
   ],
   "source": [
    "## for every dot on the grid, run 10 epochs and save validation accuracy\n",
    "\n",
    "dot_predictions = {}\n",
    "\n",
    "#this grid search takes about an hour for 24 search points \n",
    "since = time.time()\n",
    "\n",
    "for index, dot in enumerate(grid):\n",
    "    print(\"\")\n",
    "    NN_0 = NN(hidden_dims=(dot[0],dot[1]), weight_type = \"Glorot\", learning_rate = invRate(dot), silent_search = 1)\n",
    "    print(\"Loading model : \",NN_0.h1,\"x\",NN_0.h2,\"lr : \", NN_0.eta)\n",
    "    \n",
    "    NN_0.train(train_data_features, train_data_labels, epochs = 10, mini_batch = 128)\n",
    "    \n",
    "    valid_predictions, _ = NN_0.test(valid_data_features.T,valid_data_labels)\n",
    "    acc = NN_0.classification_accuracy(valid_predictions,valid_data_labels)\n",
    "    print(\"Classification Accuracy on validation = \",acc,\"%\")\n",
    "    \n",
    "    dot_predictions[\"model_\"+str(index)] = {}\n",
    "    dot_predictions[\"model_\"+str(index)][\"hidden_1\"] = dot[0]\n",
    "    dot_predictions[\"model_\"+str(index)][\"hidden_2\"] = dot[1]\n",
    "    dot_predictions[\"model_\"+str(index)][\"parameters\"] = parameter_count(n0 = 784, n1 = dot[0], n2 = dot[1], n3 = 10)\n",
    "    dot_predictions[\"model_\"+str(index)][\"lr\"] = invRate(dot)\n",
    "    dot_predictions[\"model_\"+str(index)][\"r_valid [%]\"] = acc\n",
    "\n",
    "    time_elapsed = time.time() - since\n",
    "    print('Training complete in {:.0f}m {:.0f}s'.format(\n",
    "      time_elapsed // 60, time_elapsed % 60))\n"
   ]
  },
  {
   "cell_type": "code",
   "execution_count": 13,
   "metadata": {},
   "outputs": [
    {
     "name": "stdout",
     "output_type": "stream",
     "text": [
      "('model_0', {'hidden_1': 392, 'hidden_2': 512, 'parameters': 514066, 'lr': 1.0, 'r_valid [%]': 96.56})\n",
      "('model_1', {'hidden_1': 392, 'hidden_2': 768, 'parameters': 617234, 'lr': 1.0, 'r_valid [%]': 97.58})\n",
      "('model_2', {'hidden_1': 392, 'hidden_2': 1024, 'parameters': 720402, 'lr': 1.0, 'r_valid [%]': 97.39})\n",
      "('model_3', {'hidden_1': 512, 'hidden_2': 256, 'parameters': 535818, 'lr': 1.0, 'r_valid [%]': 97.57})\n",
      "('model_4', {'hidden_1': 512, 'hidden_2': 512, 'parameters': 669706, 'lr': 1.0, 'r_valid [%]': 97.74})\n",
      "('model_5', {'hidden_1': 512, 'hidden_2': 768, 'parameters': 803594, 'lr': 1.0, 'r_valid [%]': 97.65})\n",
      "('model_6', {'hidden_1': 512, 'hidden_2': 1024, 'parameters': 937482, 'lr': 1.0, 'r_valid [%]': 97.5})\n",
      "('model_7', {'hidden_1': 768, 'hidden_2': 256, 'parameters': 802314, 'lr': 1.0, 'r_valid [%]': 97.74})\n",
      "('model_8', {'hidden_1': 392, 'hidden_2': 512, 'parameters': 514066, 'lr': 0.1, 'r_valid [%]': 97.5})\n",
      "('model_9', {'hidden_1': 392, 'hidden_2': 768, 'parameters': 617234, 'lr': 0.1, 'r_valid [%]': 97.61})\n",
      "('model_10', {'hidden_1': 392, 'hidden_2': 1024, 'parameters': 720402, 'lr': 0.1, 'r_valid [%]': 97.54})\n",
      "('model_11', {'hidden_1': 512, 'hidden_2': 256, 'parameters': 535818, 'lr': 0.1, 'r_valid [%]': 97.67})\n",
      "('model_12', {'hidden_1': 512, 'hidden_2': 512, 'parameters': 669706, 'lr': 0.1, 'r_valid [%]': 97.69})\n",
      "('model_13', {'hidden_1': 512, 'hidden_2': 768, 'parameters': 803594, 'lr': 0.1, 'r_valid [%]': 97.74})\n",
      "('model_14', {'hidden_1': 512, 'hidden_2': 1024, 'parameters': 937482, 'lr': 0.1, 'r_valid [%]': 97.67})\n",
      "('model_15', {'hidden_1': 768, 'hidden_2': 256, 'parameters': 802314, 'lr': 0.1, 'r_valid [%]': 97.54})\n",
      "('model_16', {'hidden_1': 392, 'hidden_2': 512, 'parameters': 514066, 'lr': 0.01, 'r_valid [%]': 93.54})\n",
      "('model_17', {'hidden_1': 392, 'hidden_2': 768, 'parameters': 617234, 'lr': 0.01, 'r_valid [%]': 93.67})\n",
      "('model_18', {'hidden_1': 392, 'hidden_2': 1024, 'parameters': 720402, 'lr': 0.01, 'r_valid [%]': 93.28})\n",
      "('model_19', {'hidden_1': 512, 'hidden_2': 256, 'parameters': 535818, 'lr': 0.01, 'r_valid [%]': 93.87})\n",
      "('model_20', {'hidden_1': 512, 'hidden_2': 512, 'parameters': 669706, 'lr': 0.01, 'r_valid [%]': 93.79})\n",
      "('model_21', {'hidden_1': 512, 'hidden_2': 768, 'parameters': 803594, 'lr': 0.01, 'r_valid [%]': 93.46})\n",
      "('model_22', {'hidden_1': 512, 'hidden_2': 1024, 'parameters': 937482, 'lr': 0.01, 'r_valid [%]': 93.77})\n",
      "('model_23', {'hidden_1': 768, 'hidden_2': 256, 'parameters': 802314, 'lr': 0.01, 'r_valid [%]': 93.99})\n"
     ]
    }
   ],
   "source": [
    "for row in dot_predictions.items():\n",
    "    print(row)"
   ]
  },
  {
   "cell_type": "markdown",
   "metadata": {},
   "source": [
    "From the different parameters, we find that for learning rate smaller than 0.1, the accuracy is lower after 10 epoch, i.e. training process is slower. For learning rate of 1, a few models - 512 x 512 (model_4) , 768 x 256 (model_7) reaches an accuracy of 97.74. For the learning rate of 0.1, the highest accuracy is reached by 512 x 786 (model_13)  with an accuracy of 97.74 percent. \n",
    "\n",
    "Lower learning rate helps in training better and thus we continue with 512 x 786 (model_13)."
   ]
  },
  {
   "cell_type": "markdown",
   "metadata": {},
   "source": [
    "###  Validate Gradients using Finite Difference\n",
    "\n",
    "### 1. Compute finite difference gradients using $\\epsilon = \\frac{1}{N}$ for different values of N. Use at least 5 values of N from theset $\\{k  10^i: \\ i \\in \\{0, \\dots, 5\\}, \\ k \\in \\{1, 5\\}\\} $."
   ]
  },
  {
   "cell_type": "code",
   "execution_count": 14,
   "metadata": {},
   "outputs": [
    {
     "name": "stdout",
     "output_type": "stream",
     "text": [
      "[1.0, 0.1, 0.01, 0.001, 0.0001, 1e-05]\n"
     ]
    }
   ],
   "source": [
    "N_list = [10.0**i for i in range(6)]#[1,1.0e1,1.0e2,1.0e3,1.0e4,1.0e5,1.0e6,1.0e7]\n",
    "epsilon_list = [1.0/i for i in N_list]\n",
    "print(epsilon_list)"
   ]
  },
  {
   "cell_type": "code",
   "execution_count": 15,
   "metadata": {},
   "outputs": [
    {
     "name": "stdout",
     "output_type": "stream",
     "text": [
      "parameter count = 803594\n",
      "Loading model :  512 x 768 lr :  0.1\n"
     ]
    }
   ],
   "source": [
    "# model \n",
    "NN1 = NN(hidden_dims=(512,768), weight_type = \"Glorot\", learning_rate = 0.1)\n",
    "print(\"Loading model : \",NN1.h1,\"x\",NN1.h2,\"lr : \", NN1.eta)"
   ]
  },
  {
   "cell_type": "code",
   "execution_count": 16,
   "metadata": {},
   "outputs": [
    {
     "data": {
      "text/plain": [
       "(array([748., 718., 733., 816., 785., 809., 753., 782., 748., 788.]),\n",
       " array([-8.77566535e-02, -7.02024187e-02, -5.26481839e-02, -3.50939491e-02,\n",
       "        -1.75397143e-02,  1.45204861e-05,  1.75687553e-02,  3.51229901e-02,\n",
       "         5.26772249e-02,  7.02314597e-02,  8.77856945e-02]),\n",
       " <a list of 10 Patch objects>)"
      ]
     },
     "execution_count": 16,
     "metadata": {},
     "output_type": "execute_result"
    },
    {
     "data": {
      "image/png": "[encoded data removed]",
      "text/plain": [
       "<Figure size 432x288 with 1 Axes>"
      ]
     },
     "metadata": {
      "needs_background": "light"
     },
     "output_type": "display_data"
    }
   ],
   "source": [
    "plt.hist(NN1.W2.flatten())"
   ]
  },
  {
   "cell_type": "code",
   "execution_count": 17,
   "metadata": {},
   "outputs": [],
   "source": [
    "# Taking one input point \n",
    "ind = 0\n",
    "x_i = train_data_features[ind].reshape(-1,1)\n",
    "y_i = [train_data_labels[ind]]"
   ]
  },
  {
   "cell_type": "code",
   "execution_count": 18,
   "metadata": {},
   "outputs": [
    {
     "name": "stdout",
     "output_type": "stream",
     "text": [
      "\n",
      "Epsilon =  1.0\n",
      "W2[0,0] finite difference = [0.] \t finite difference/grads[W2][0,0] =  [nan]\n",
      "W2[0,1] finite difference = [0.05484835] \t finite difference/grads[W2][0,1] =  [1.0350778]\n",
      "W2[0,2] finite difference = [0.] \t finite difference/grads[W2][0,2] =  [nan]\n",
      "W2[0,3] finite difference = [0.0067867] \t finite difference/grads[W2][0,3] =  [1.00057534]\n",
      "W2[0,4] finite difference = [0.01999971] \t finite difference/grads[W2][0,4] =  [1.00495239]\n",
      "W2[0,5] finite difference = [0.01013697] \t finite difference/grads[W2][0,5] =  [1.00128175]\n",
      "W2[0,6] finite difference = [0.] \t finite difference/grads[W2][0,6] =  [nan]\n",
      "W2[0,7] finite difference = [0.] \t finite difference/grads[W2][0,7] =  [nan]\n",
      "W2[0,8] finite difference = [0.00431851] \t finite difference/grads[W2][0,8] =  [1.00023312]\n",
      "W2[0,9] finite difference = [0.00253696] \t finite difference/grads[W2][0,9] =  [1.00008048]\n",
      "\n",
      "Epsilon =  0.1\n",
      "W2[0,0] finite difference = [0.] \t finite difference/grads[W2][0,0] =  [nan]\n",
      "W2[0,1] finite difference = [0.0530082] \t finite difference/grads[W2][0,1] =  [1.00035115]\n",
      "W2[0,2] finite difference = [0.] \t finite difference/grads[W2][0,2] =  [nan]\n",
      "W2[0,3] finite difference = [0.00678284] \t finite difference/grads[W2][0,3] =  [1.00000575]\n",
      "W2[0,4] finite difference = [0.01990214] \t finite difference/grads[W2][0,4] =  [1.00004953]\n",
      "W2[0,5] finite difference = [0.01012413] \t finite difference/grads[W2][0,5] =  [1.00001282]\n",
      "W2[0,6] finite difference = [0.] \t finite difference/grads[W2][0,6] =  [nan]\n",
      "W2[0,7] finite difference = [0.] \t finite difference/grads[W2][0,7] =  [nan]\n",
      "W2[0,8] finite difference = [0.00431751] \t finite difference/grads[W2][0,8] =  [1.00000233]\n",
      "W2[0,9] finite difference = [0.00253676] \t finite difference/grads[W2][0,9] =  [1.0000008]\n",
      "\n",
      "Epsilon =  0.01\n",
      "W2[0,0] finite difference = [0.] \t finite difference/grads[W2][0,0] =  [nan]\n",
      "W2[0,1] finite difference = [0.05298978] \t finite difference/grads[W2][0,1] =  [1.00000351]\n",
      "W2[0,2] finite difference = [0.] \t finite difference/grads[W2][0,2] =  [nan]\n",
      "W2[0,3] finite difference = [0.0067828] \t finite difference/grads[W2][0,3] =  [1.00000006]\n",
      "W2[0,4] finite difference = [0.01990117] \t finite difference/grads[W2][0,4] =  [1.0000005]\n",
      "W2[0,5] finite difference = [0.010124] \t finite difference/grads[W2][0,5] =  [1.00000013]\n",
      "W2[0,6] finite difference = [0.] \t finite difference/grads[W2][0,6] =  [nan]\n",
      "W2[0,7] finite difference = [0.] \t finite difference/grads[W2][0,7] =  [nan]\n",
      "W2[0,8] finite difference = [0.0043175] \t finite difference/grads[W2][0,8] =  [1.00000002]\n",
      "W2[0,9] finite difference = [0.00253675] \t finite difference/grads[W2][0,9] =  [1.00000001]\n",
      "\n",
      "Epsilon =  0.001\n",
      "W2[0,0] finite difference = [0.] \t finite difference/grads[W2][0,0] =  [nan]\n",
      "W2[0,1] finite difference = [0.05298959] \t finite difference/grads[W2][0,1] =  [1.00000004]\n",
      "W2[0,2] finite difference = [0.] \t finite difference/grads[W2][0,2] =  [nan]\n",
      "W2[0,3] finite difference = [0.0067828] \t finite difference/grads[W2][0,3] =  [1.]\n",
      "W2[0,4] finite difference = [0.01990116] \t finite difference/grads[W2][0,4] =  [1.]\n",
      "W2[0,5] finite difference = [0.010124] \t finite difference/grads[W2][0,5] =  [1.]\n",
      "W2[0,6] finite difference = [0.] \t finite difference/grads[W2][0,6] =  [nan]\n",
      "W2[0,7] finite difference = [0.] \t finite difference/grads[W2][0,7] =  [nan]\n",
      "W2[0,8] finite difference = [0.0043175] \t finite difference/grads[W2][0,8] =  [1.]\n",
      "W2[0,9] finite difference = [0.00253675] \t finite difference/grads[W2][0,9] =  [1.]\n",
      "\n",
      "Epsilon =  0.0001\n",
      "W2[0,0] finite difference = [0.] \t finite difference/grads[W2][0,0] =  [nan]\n",
      "W2[0,1] finite difference = [0.05298959] \t finite difference/grads[W2][0,1] =  [1.]\n",
      "W2[0,2] finite difference = [0.] \t finite difference/grads[W2][0,2] =  [nan]\n",
      "W2[0,3] finite difference = [0.0067828] \t finite difference/grads[W2][0,3] =  [1.]\n",
      "W2[0,4] finite difference = [0.01990116] \t finite difference/grads[W2][0,4] =  [1.]\n"
     ]
    },
    {
     "name": "stderr",
     "output_type": "stream",
     "text": [
      "//anaconda/envs/helios/lib/python3.7/site-packages/ipykernel_launcher.py:26: RuntimeWarning: invalid value encountered in true_divide\n"
     ]
    },
    {
     "name": "stdout",
     "output_type": "stream",
     "text": [
      "W2[0,5] finite difference = [0.010124] \t finite difference/grads[W2][0,5] =  [1.]\n",
      "W2[0,6] finite difference = [0.] \t finite difference/grads[W2][0,6] =  [nan]\n",
      "W2[0,7] finite difference = [0.] \t finite difference/grads[W2][0,7] =  [nan]\n",
      "W2[0,8] finite difference = [0.0043175] \t finite difference/grads[W2][0,8] =  [1.]\n",
      "W2[0,9] finite difference = [0.00253675] \t finite difference/grads[W2][0,9] =  [1.]\n",
      "\n",
      "Epsilon =  1e-05\n",
      "W2[0,0] finite difference = [0.] \t finite difference/grads[W2][0,0] =  [nan]\n",
      "W2[0,1] finite difference = [0.05298959] \t finite difference/grads[W2][0,1] =  [1.]\n",
      "W2[0,2] finite difference = [0.] \t finite difference/grads[W2][0,2] =  [nan]\n",
      "W2[0,3] finite difference = [0.0067828] \t finite difference/grads[W2][0,3] =  [1.]\n",
      "W2[0,4] finite difference = [0.01990116] \t finite difference/grads[W2][0,4] =  [1.]\n",
      "W2[0,5] finite difference = [0.010124] \t finite difference/grads[W2][0,5] =  [1.]\n",
      "W2[0,6] finite difference = [0.] \t finite difference/grads[W2][0,6] =  [nan]\n",
      "W2[0,7] finite difference = [0.] \t finite difference/grads[W2][0,7] =  [nan]\n",
      "W2[0,8] finite difference = [0.0043175] \t finite difference/grads[W2][0,8] =  [1.]\n",
      "W2[0,9] finite difference = [0.00253675] \t finite difference/grads[W2][0,9] =  [1.]\n"
     ]
    }
   ],
   "source": [
    "max_absolute_diff = []\n",
    "for epsilon in epsilon_list:\n",
    "    print(\"\\nEpsilon = \",epsilon)\n",
    "    absolute_diff = []\n",
    "    for i in [0]:\n",
    "        for j in range(10):\n",
    "            \n",
    "            NN1.W2[i][j] -= epsilon\n",
    "            cache = NN1.forward(x_i)\n",
    "            before = NN1.loss(cache['output'],y_i)\n",
    "            NN1.W2[i][j] += epsilon\n",
    "            \n",
    "            NN1.W2[i][j] += epsilon\n",
    "            cache = NN1.forward(x_i)\n",
    "            after = NN1.loss(cache['output'],y_i)\n",
    "            NN1.W2[i][j] -= epsilon\n",
    "            \n",
    "            finite_difference_gradient = (after-before)/(2*epsilon)\n",
    "            \n",
    "            cache = NN1.forward(x_i)\n",
    "            grads = NN1.backward(cache,y_i)\n",
    "            \n",
    "            \n",
    "            print('W2['+str(i)+','+str(j)+'] finite difference =', finite_difference_gradient\n",
    "                  ,'\\t finite difference/grads[W2]['+str(i)+','+str(j)+'] = ',\n",
    "                  finite_difference_gradient/grads['W2'][i][j])\n",
    "            \n",
    "            ## computing the absolute difference between finite difference and backprop computed gradient.\n",
    "            absolute_diff.append(np.abs(finite_difference_gradient - grads['W2'][i][j]))\n",
    "    \n",
    "    \n",
    "    ## Maximum of the absolute differnce seen for this epsilon value.\n",
    "    max_absolute_diff.append(np.max(absolute_diff))\n",
    "    "
   ]
  },
  {
   "cell_type": "markdown",
   "metadata": {},
   "source": [
    "#### 2. Plot the maximum difference between the true gradient and the finite difference gradient $(\\max_{1 \\leq i \\leq p} |\\nabla^N_i - \\frac{\\partial L}{\\partial \\theta_i}| )$ as a function of $N$. Comment on the result. "
   ]
  },
  {
   "cell_type": "code",
   "execution_count": 19,
   "metadata": {},
   "outputs": [
    {
     "data": {
      "image/png": "[encoded data removed]",
      "text/plain": [
       "<Figure size 432x288 with 1 Axes>"
      ]
     },
     "metadata": {
      "needs_background": "light"
     },
     "output_type": "display_data"
    }
   ],
   "source": [
    "plt.loglog(N_list,max_absolute_diff,'ro-')\n",
    "plt.ylabel('Max difference')\n",
    "plt.xlabel('N')\n",
    "plt.show()"
   ]
  },
  {
   "cell_type": "markdown",
   "metadata": {},
   "source": [
    "Here we can see that for larger $N$ (i.e. smaller $\\epsilon$), the finite difference gradient is closer to the gradient obtained by back propagation. Therefore, we can confirm that our backpropagation function is working correctly."
   ]
  },
  {
   "cell_type": "code",
   "execution_count": null,
   "metadata": {},
   "outputs": [],
   "source": []
  }
 ],
 "metadata": {
  "anaconda-cloud": {},
  "kernelspec": {
   "display_name": "Python 3",
   "language": "python",
   "name": "python3"
  },
  "language_info": {
   "codemirror_mode": {
    "name": "ipython",
    "version": 3
   },
   "file_extension": ".py",
   "mimetype": "text/x-python",
   "name": "python",
   "nbconvert_exporter": "python",
   "pygments_lexer": "ipython3",
   "version": "3.7.2"
  }
 },
 "nbformat": 4,
 "nbformat_minor": 2
}
